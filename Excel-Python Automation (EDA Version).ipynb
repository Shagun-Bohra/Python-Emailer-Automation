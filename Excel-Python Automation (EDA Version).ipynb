{
 "cells": [
  {
   "cell_type": "code",
   "execution_count": 1,
   "id": "052d1f6f",
   "metadata": {},
   "outputs": [],
   "source": [
    "import pandas as pd\n",
    "import numpy as np\n",
    "import matplotlib.pyplot as plt"
   ]
  },
  {
   "cell_type": "code",
   "execution_count": 2,
   "id": "ac442feb",
   "metadata": {},
   "outputs": [
    {
     "data": {
      "text/html": [
       "<div>\n",
       "<style scoped>\n",
       "    .dataframe tbody tr th:only-of-type {\n",
       "        vertical-align: middle;\n",
       "    }\n",
       "\n",
       "    .dataframe tbody tr th {\n",
       "        vertical-align: top;\n",
       "    }\n",
       "\n",
       "    .dataframe thead th {\n",
       "        text-align: right;\n",
       "    }\n",
       "</style>\n",
       "<table border=\"1\" class=\"dataframe\">\n",
       "  <thead>\n",
       "    <tr style=\"text-align: right;\">\n",
       "      <th></th>\n",
       "      <th>Name</th>\n",
       "      <th>English</th>\n",
       "      <th>Science</th>\n",
       "      <th>Hindi</th>\n",
       "      <th>Maths</th>\n",
       "      <th>Social</th>\n",
       "      <th>Subjects</th>\n",
       "    </tr>\n",
       "  </thead>\n",
       "  <tbody>\n",
       "    <tr>\n",
       "      <th>0</th>\n",
       "      <td>Utsav</td>\n",
       "      <td>77</td>\n",
       "      <td>80</td>\n",
       "      <td>90</td>\n",
       "      <td>94</td>\n",
       "      <td>91</td>\n",
       "      <td>Maths</td>\n",
       "    </tr>\n",
       "    <tr>\n",
       "      <th>1</th>\n",
       "      <td>Shagun</td>\n",
       "      <td>97</td>\n",
       "      <td>96</td>\n",
       "      <td>89</td>\n",
       "      <td>99</td>\n",
       "      <td>88</td>\n",
       "      <td>English</td>\n",
       "    </tr>\n",
       "    <tr>\n",
       "      <th>2</th>\n",
       "      <td>Sagar</td>\n",
       "      <td>88</td>\n",
       "      <td>67</td>\n",
       "      <td>67</td>\n",
       "      <td>87</td>\n",
       "      <td>96</td>\n",
       "      <td>Hindi</td>\n",
       "    </tr>\n",
       "    <tr>\n",
       "      <th>3</th>\n",
       "      <td>Shubham</td>\n",
       "      <td>90</td>\n",
       "      <td>82</td>\n",
       "      <td>83</td>\n",
       "      <td>90</td>\n",
       "      <td>94</td>\n",
       "      <td>Social</td>\n",
       "    </tr>\n",
       "    <tr>\n",
       "      <th>4</th>\n",
       "      <td>Abhishek</td>\n",
       "      <td>89</td>\n",
       "      <td>77</td>\n",
       "      <td>95</td>\n",
       "      <td>84</td>\n",
       "      <td>95</td>\n",
       "      <td>Science</td>\n",
       "    </tr>\n",
       "  </tbody>\n",
       "</table>\n",
       "</div>"
      ],
      "text/plain": [
       "       Name  English  Science  Hindi  Maths  Social Subjects\n",
       "0     Utsav       77       80     90     94      91    Maths\n",
       "1    Shagun       97       96     89     99      88  English\n",
       "2     Sagar       88       67     67     87      96    Hindi\n",
       "3   Shubham       90       82     83     90      94   Social\n",
       "4  Abhishek       89       77     95     84      95  Science"
      ]
     },
     "execution_count": 2,
     "metadata": {},
     "output_type": "execute_result"
    }
   ],
   "source": [
    "data=pd.read_excel('Grades.xlsx')\n",
    "data.head()"
   ]
  },
  {
   "cell_type": "code",
   "execution_count": 3,
   "id": "e0189a78",
   "metadata": {},
   "outputs": [
    {
     "name": "stdout",
     "output_type": "stream",
     "text": [
      "7\n"
     ]
    }
   ],
   "source": [
    "num_columns=data.shape[1]\n",
    "print(num_columns)"
   ]
  },
  {
   "cell_type": "code",
   "execution_count": 4,
   "id": "00e7bcdf",
   "metadata": {},
   "outputs": [
    {
     "name": "stdout",
     "output_type": "stream",
     "text": [
      "7\n"
     ]
    }
   ],
   "source": [
    "num_columns=data.shape[1]\n",
    "print(num_columns)"
   ]
  },
  {
   "cell_type": "code",
   "execution_count": 5,
   "id": "1388e8a0",
   "metadata": {},
   "outputs": [
    {
     "name": "stdout",
     "output_type": "stream",
     "text": [
      "       Name  English  Science  Hindi  Maths  Social Subjects  Total_Score\n",
      "0     Utsav       77       80     90     94      91    Maths          432\n",
      "1    Shagun       97       96     89     99      88  English          469\n",
      "2     Sagar       88       67     67     87      96    Hindi          405\n",
      "3   Shubham       90       82     83     90      94   Social          439\n",
      "4  Abhishek       89       77     95     84      95  Science          440\n",
      "DataFrame saved to Excel file as sheet 'Arithmetics': python_excel_automation.xlsx\n"
     ]
    }
   ],
   "source": [
    "#mathematical operation\n",
    "\n",
    "data['Total_Score'] = data.sum(axis=1)\n",
    "print(data)\n",
    "\n",
    "output_file = 'python_excel_automation.xlsx'\n",
    "with pd.ExcelWriter(output_file) as writer:\n",
    "    # Save the DataFrame as a sheet named 'Sheet1' in the workbook\n",
    "    data.to_excel(writer, sheet_name='Arithmetics', index=False)\n",
    "\n",
    "print(\"DataFrame saved to Excel file as sheet 'Arithmetics':\", output_file)"
   ]
  },
  {
   "cell_type": "code",
   "execution_count": 6,
   "id": "47a68ca2",
   "metadata": {},
   "outputs": [
    {
     "data": {
      "text/html": [
       "<div>\n",
       "<style scoped>\n",
       "    .dataframe tbody tr th:only-of-type {\n",
       "        vertical-align: middle;\n",
       "    }\n",
       "\n",
       "    .dataframe tbody tr th {\n",
       "        vertical-align: top;\n",
       "    }\n",
       "\n",
       "    .dataframe thead th {\n",
       "        text-align: right;\n",
       "    }\n",
       "</style>\n",
       "<table border=\"1\" class=\"dataframe\">\n",
       "  <thead>\n",
       "    <tr style=\"text-align: right;\">\n",
       "      <th></th>\n",
       "      <th>Name</th>\n",
       "      <th>English</th>\n",
       "      <th>Science</th>\n",
       "      <th>Hindi</th>\n",
       "      <th>Maths</th>\n",
       "      <th>Social</th>\n",
       "      <th>Subjects</th>\n",
       "      <th>Total_Score</th>\n",
       "      <th>Result</th>\n",
       "      <th>Rank</th>\n",
       "    </tr>\n",
       "  </thead>\n",
       "  <tbody>\n",
       "    <tr>\n",
       "      <th>0</th>\n",
       "      <td>Utsav</td>\n",
       "      <td>77</td>\n",
       "      <td>80</td>\n",
       "      <td>90</td>\n",
       "      <td>94</td>\n",
       "      <td>91</td>\n",
       "      <td>Maths</td>\n",
       "      <td>432</td>\n",
       "      <td>The student needs improvement</td>\n",
       "      <td>4.0</td>\n",
       "    </tr>\n",
       "    <tr>\n",
       "      <th>1</th>\n",
       "      <td>Shagun</td>\n",
       "      <td>97</td>\n",
       "      <td>96</td>\n",
       "      <td>89</td>\n",
       "      <td>99</td>\n",
       "      <td>88</td>\n",
       "      <td>English</td>\n",
       "      <td>469</td>\n",
       "      <td>The student is good in English</td>\n",
       "      <td>1.0</td>\n",
       "    </tr>\n",
       "    <tr>\n",
       "      <th>2</th>\n",
       "      <td>Sagar</td>\n",
       "      <td>88</td>\n",
       "      <td>67</td>\n",
       "      <td>67</td>\n",
       "      <td>87</td>\n",
       "      <td>96</td>\n",
       "      <td>Hindi</td>\n",
       "      <td>405</td>\n",
       "      <td>The student is good in English</td>\n",
       "      <td>5.0</td>\n",
       "    </tr>\n",
       "    <tr>\n",
       "      <th>3</th>\n",
       "      <td>Shubham</td>\n",
       "      <td>90</td>\n",
       "      <td>82</td>\n",
       "      <td>83</td>\n",
       "      <td>90</td>\n",
       "      <td>94</td>\n",
       "      <td>Social</td>\n",
       "      <td>439</td>\n",
       "      <td>The student is good in English</td>\n",
       "      <td>3.0</td>\n",
       "    </tr>\n",
       "    <tr>\n",
       "      <th>4</th>\n",
       "      <td>Abhishek</td>\n",
       "      <td>89</td>\n",
       "      <td>77</td>\n",
       "      <td>95</td>\n",
       "      <td>84</td>\n",
       "      <td>95</td>\n",
       "      <td>Science</td>\n",
       "      <td>440</td>\n",
       "      <td>The student needs improvement</td>\n",
       "      <td>2.0</td>\n",
       "    </tr>\n",
       "  </tbody>\n",
       "</table>\n",
       "</div>"
      ],
      "text/plain": [
       "       Name  English  Science  Hindi  Maths  Social Subjects  Total_Score  \\\n",
       "0     Utsav       77       80     90     94      91    Maths          432   \n",
       "1    Shagun       97       96     89     99      88  English          469   \n",
       "2     Sagar       88       67     67     87      96    Hindi          405   \n",
       "3   Shubham       90       82     83     90      94   Social          439   \n",
       "4  Abhishek       89       77     95     84      95  Science          440   \n",
       "\n",
       "                           Result  Rank  \n",
       "0   The student needs improvement   4.0  \n",
       "1  The student is good in English   1.0  \n",
       "2  The student is good in English   5.0  \n",
       "3  The student is good in English   3.0  \n",
       "4   The student needs improvement   2.0  "
      ]
     },
     "execution_count": 6,
     "metadata": {},
     "output_type": "execute_result"
    }
   ],
   "source": [
    "# If-else conditioning\n",
    "num_rows = data.shape[0]\n",
    "for i in range(0, num_rows):  # Corrected the range\n",
    "    if data['English'].iloc[i] > data['Hindi'].iloc[i]:  # Corrected indexing and comparison\n",
    "        data.at[i, 'Result'] = \"The student is good in English\"  # Corrected assignment\n",
    "        \n",
    "    else:\n",
    "        data.at[i, 'Result'] = \"The student needs improvement\"  # Corrected assignment\n",
    "        \n",
    "        \n",
    "data['Rank']=data['Total_Score'].rank(method='max',ascending=False)\n",
    "data.head()\n"
   ]
  },
  {
   "cell_type": "code",
   "execution_count": 7,
   "id": "829915a8",
   "metadata": {},
   "outputs": [
    {
     "data": {
      "text/html": [
       "<style  type=\"text/css\" >\n",
       "#T_81812_row0_col0,#T_81812_row0_col1,#T_81812_row0_col2,#T_81812_row0_col3,#T_81812_row0_col4,#T_81812_row0_col5,#T_81812_row0_col6,#T_81812_row0_col7,#T_81812_row0_col8,#T_81812_row0_col9,#T_81812_row4_col0,#T_81812_row4_col1,#T_81812_row4_col2,#T_81812_row4_col3,#T_81812_row4_col4,#T_81812_row4_col5,#T_81812_row4_col6,#T_81812_row4_col7,#T_81812_row4_col8,#T_81812_row4_col9{\n",
       "            background-color:  Yellow;\n",
       "        }#T_81812_row1_col0,#T_81812_row1_col1,#T_81812_row1_col2,#T_81812_row1_col3,#T_81812_row1_col4,#T_81812_row1_col5,#T_81812_row1_col6,#T_81812_row1_col7,#T_81812_row1_col8,#T_81812_row1_col9,#T_81812_row2_col0,#T_81812_row2_col1,#T_81812_row2_col2,#T_81812_row2_col3,#T_81812_row2_col4,#T_81812_row2_col5,#T_81812_row2_col6,#T_81812_row2_col7,#T_81812_row2_col8,#T_81812_row2_col9,#T_81812_row3_col0,#T_81812_row3_col1,#T_81812_row3_col2,#T_81812_row3_col3,#T_81812_row3_col4,#T_81812_row3_col5,#T_81812_row3_col6,#T_81812_row3_col7,#T_81812_row3_col8,#T_81812_row3_col9{\n",
       "            background-color:  Green;\n",
       "        }</style><table id=\"T_81812_\" ><thead>    <tr>        <th class=\"blank level0\" ></th>        <th class=\"col_heading level0 col0\" >Name</th>        <th class=\"col_heading level0 col1\" >English</th>        <th class=\"col_heading level0 col2\" >Science</th>        <th class=\"col_heading level0 col3\" >Hindi</th>        <th class=\"col_heading level0 col4\" >Maths</th>        <th class=\"col_heading level0 col5\" >Social</th>        <th class=\"col_heading level0 col6\" >Subjects</th>        <th class=\"col_heading level0 col7\" >Total_Score</th>        <th class=\"col_heading level0 col8\" >Result</th>        <th class=\"col_heading level0 col9\" >Rank</th>    </tr></thead><tbody>\n",
       "                <tr>\n",
       "                        <th id=\"T_81812_level0_row0\" class=\"row_heading level0 row0\" >0</th>\n",
       "                        <td id=\"T_81812_row0_col0\" class=\"data row0 col0\" >Utsav</td>\n",
       "                        <td id=\"T_81812_row0_col1\" class=\"data row0 col1\" >77</td>\n",
       "                        <td id=\"T_81812_row0_col2\" class=\"data row0 col2\" >80</td>\n",
       "                        <td id=\"T_81812_row0_col3\" class=\"data row0 col3\" >90</td>\n",
       "                        <td id=\"T_81812_row0_col4\" class=\"data row0 col4\" >94</td>\n",
       "                        <td id=\"T_81812_row0_col5\" class=\"data row0 col5\" >91</td>\n",
       "                        <td id=\"T_81812_row0_col6\" class=\"data row0 col6\" >Maths</td>\n",
       "                        <td id=\"T_81812_row0_col7\" class=\"data row0 col7\" >432</td>\n",
       "                        <td id=\"T_81812_row0_col8\" class=\"data row0 col8\" >The student needs improvement</td>\n",
       "                        <td id=\"T_81812_row0_col9\" class=\"data row0 col9\" >4.000000</td>\n",
       "            </tr>\n",
       "            <tr>\n",
       "                        <th id=\"T_81812_level0_row1\" class=\"row_heading level0 row1\" >1</th>\n",
       "                        <td id=\"T_81812_row1_col0\" class=\"data row1 col0\" >Shagun</td>\n",
       "                        <td id=\"T_81812_row1_col1\" class=\"data row1 col1\" >97</td>\n",
       "                        <td id=\"T_81812_row1_col2\" class=\"data row1 col2\" >96</td>\n",
       "                        <td id=\"T_81812_row1_col3\" class=\"data row1 col3\" >89</td>\n",
       "                        <td id=\"T_81812_row1_col4\" class=\"data row1 col4\" >99</td>\n",
       "                        <td id=\"T_81812_row1_col5\" class=\"data row1 col5\" >88</td>\n",
       "                        <td id=\"T_81812_row1_col6\" class=\"data row1 col6\" >English</td>\n",
       "                        <td id=\"T_81812_row1_col7\" class=\"data row1 col7\" >469</td>\n",
       "                        <td id=\"T_81812_row1_col8\" class=\"data row1 col8\" >The student is good in English</td>\n",
       "                        <td id=\"T_81812_row1_col9\" class=\"data row1 col9\" >1.000000</td>\n",
       "            </tr>\n",
       "            <tr>\n",
       "                        <th id=\"T_81812_level0_row2\" class=\"row_heading level0 row2\" >2</th>\n",
       "                        <td id=\"T_81812_row2_col0\" class=\"data row2 col0\" >Sagar</td>\n",
       "                        <td id=\"T_81812_row2_col1\" class=\"data row2 col1\" >88</td>\n",
       "                        <td id=\"T_81812_row2_col2\" class=\"data row2 col2\" >67</td>\n",
       "                        <td id=\"T_81812_row2_col3\" class=\"data row2 col3\" >67</td>\n",
       "                        <td id=\"T_81812_row2_col4\" class=\"data row2 col4\" >87</td>\n",
       "                        <td id=\"T_81812_row2_col5\" class=\"data row2 col5\" >96</td>\n",
       "                        <td id=\"T_81812_row2_col6\" class=\"data row2 col6\" >Hindi</td>\n",
       "                        <td id=\"T_81812_row2_col7\" class=\"data row2 col7\" >405</td>\n",
       "                        <td id=\"T_81812_row2_col8\" class=\"data row2 col8\" >The student is good in English</td>\n",
       "                        <td id=\"T_81812_row2_col9\" class=\"data row2 col9\" >5.000000</td>\n",
       "            </tr>\n",
       "            <tr>\n",
       "                        <th id=\"T_81812_level0_row3\" class=\"row_heading level0 row3\" >3</th>\n",
       "                        <td id=\"T_81812_row3_col0\" class=\"data row3 col0\" >Shubham</td>\n",
       "                        <td id=\"T_81812_row3_col1\" class=\"data row3 col1\" >90</td>\n",
       "                        <td id=\"T_81812_row3_col2\" class=\"data row3 col2\" >82</td>\n",
       "                        <td id=\"T_81812_row3_col3\" class=\"data row3 col3\" >83</td>\n",
       "                        <td id=\"T_81812_row3_col4\" class=\"data row3 col4\" >90</td>\n",
       "                        <td id=\"T_81812_row3_col5\" class=\"data row3 col5\" >94</td>\n",
       "                        <td id=\"T_81812_row3_col6\" class=\"data row3 col6\" >Social</td>\n",
       "                        <td id=\"T_81812_row3_col7\" class=\"data row3 col7\" >439</td>\n",
       "                        <td id=\"T_81812_row3_col8\" class=\"data row3 col8\" >The student is good in English</td>\n",
       "                        <td id=\"T_81812_row3_col9\" class=\"data row3 col9\" >3.000000</td>\n",
       "            </tr>\n",
       "            <tr>\n",
       "                        <th id=\"T_81812_level0_row4\" class=\"row_heading level0 row4\" >4</th>\n",
       "                        <td id=\"T_81812_row4_col0\" class=\"data row4 col0\" >Abhishek</td>\n",
       "                        <td id=\"T_81812_row4_col1\" class=\"data row4 col1\" >89</td>\n",
       "                        <td id=\"T_81812_row4_col2\" class=\"data row4 col2\" >77</td>\n",
       "                        <td id=\"T_81812_row4_col3\" class=\"data row4 col3\" >95</td>\n",
       "                        <td id=\"T_81812_row4_col4\" class=\"data row4 col4\" >84</td>\n",
       "                        <td id=\"T_81812_row4_col5\" class=\"data row4 col5\" >95</td>\n",
       "                        <td id=\"T_81812_row4_col6\" class=\"data row4 col6\" >Science</td>\n",
       "                        <td id=\"T_81812_row4_col7\" class=\"data row4 col7\" >440</td>\n",
       "                        <td id=\"T_81812_row4_col8\" class=\"data row4 col8\" >The student needs improvement</td>\n",
       "                        <td id=\"T_81812_row4_col9\" class=\"data row4 col9\" >2.000000</td>\n",
       "            </tr>\n",
       "    </tbody></table>"
      ],
      "text/plain": [
       "<pandas.io.formats.style.Styler at 0x1951a5e5220>"
      ]
     },
     "execution_count": 7,
     "metadata": {},
     "output_type": "execute_result"
    }
   ],
   "source": [
    "def highlight_result(data):\n",
    "    # Assuming the column 'Result' is present in the DataFrame\n",
    "    # Also, fixing the typo in the condition (\"students\" -> \"student\")\n",
    "    if data['Result'] == \"The student is good in English\":\n",
    "        return ['background-color: Green'] * len(data)\n",
    "    else:\n",
    "        return ['background-color: Yellow'] * len(data)\n",
    "\n",
    "# Create a copy of the DataFrame and apply styling to the copy\n",
    "styled_data = data.copy()\n",
    "styled_data = styled_data.style.apply(highlight_result, axis=1)\n",
    "\n",
    "# Display the styled DataFrame\n",
    "styled_data\n"
   ]
  },
  {
   "cell_type": "code",
   "execution_count": 8,
   "id": "8a66b332",
   "metadata": {},
   "outputs": [
    {
     "name": "stdout",
     "output_type": "stream",
     "text": [
      "DataFrame saved to Excel file as sheet 'Conditionals' in existing workbook: python_excel_automation.xlsx\n"
     ]
    }
   ],
   "source": [
    "output_file = 'python_excel_automation.xlsx'\n",
    "with pd.ExcelWriter(output_file, engine='openpyxl', mode='a') as writer:\n",
    "    # Save the DataFrame as a new sheet in the existing workbook\n",
    "    styled_data.to_excel(writer, sheet_name='Conditionals', index=False)\n",
    "\n",
    "print(\"DataFrame saved to Excel file as sheet 'Conditionals' in existing workbook:\", output_file)"
   ]
  },
  {
   "cell_type": "code",
   "execution_count": null,
   "id": "b4580aab",
   "metadata": {},
   "outputs": [],
   "source": []
  },
  {
   "cell_type": "code",
   "execution_count": null,
   "id": "ba9e2f00",
   "metadata": {},
   "outputs": [],
   "source": []
  }
 ],
 "metadata": {
  "kernelspec": {
   "display_name": "Python 3",
   "language": "python",
   "name": "python3"
  },
  "language_info": {
   "codemirror_mode": {
    "name": "ipython",
    "version": 3
   },
   "file_extension": ".py",
   "mimetype": "text/x-python",
   "name": "python",
   "nbconvert_exporter": "python",
   "pygments_lexer": "ipython3",
   "version": "3.8.8"
  }
 },
 "nbformat": 4,
 "nbformat_minor": 5
}
