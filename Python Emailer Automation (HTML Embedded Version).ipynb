{
 "cells": [
  {
   "cell_type": "code",
   "execution_count": null,
   "id": "b2b3b4b7",
   "metadata": {},
   "outputs": [],
   "source": [
    "#code version-2\n",
    "\n",
    "import smtplib\n",
    "import ssl\n",
    "from email.message import EmailMessage\n",
    "\n",
    "subject=\"Email from Python Automation\"\n",
    "body=\"This is a test email generated as a part of python automation process. No course of action is required from the receiver's end.\"\n",
    "sender_email=\"Sender's Email\"\n",
    "receiver_email=\"Receiver Email 1, Receiver Email 2, Receiver Email 3, Receiver Email 4 etc\"\n",
    "password=\"Password of sender's email\"\n",
    "\n",
    "message=EmailMessage()\n",
    "message[\"From\"]=sender_email\n",
    "message[\"To\"]=receiver_email\n",
    "message[\"Subject\"]=subject\n",
    "html=f\"\"\"\n",
    "\n",
    "<html>\n",
    "    <body>\n",
    "        <h1>{subject}</h1>\n",
    "        <p>{body}</p>\n",
    "    </body>\n",
    "</html>\n",
    "\"\"\"\n",
    "\n",
    "\n",
    "message.add_alternative(html,subtype=\"html\")\n",
    "context=ssl.create_default_context()\n",
    "print(\"Sending Email\")\n",
    "\n",
    "with smtplib.SMTP_SSL(\"smtp.gmail.com\",465,context=context) as server:\n",
    "    server.login(sender_email,password)\n",
    "    server.sendmail(sender_email,receiver_email,message.as_string())\n",
    "    \n",
    "print(\"Success\")    "
   ]
  }
 ],
 "metadata": {
  "kernelspec": {
   "display_name": "Python 3",
   "language": "python",
   "name": "python3"
  },
  "language_info": {
   "codemirror_mode": {
    "name": "ipython",
    "version": 3
   },
   "file_extension": ".py",
   "mimetype": "text/x-python",
   "name": "python",
   "nbconvert_exporter": "python",
   "pygments_lexer": "ipython3",
   "version": "3.8.8"
  }
 },
 "nbformat": 4,
 "nbformat_minor": 5
}
