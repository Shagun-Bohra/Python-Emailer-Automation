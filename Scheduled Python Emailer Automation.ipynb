{
 "cells": [
  {
   "cell_type": "code",
   "execution_count": null,
   "id": "edfdf72a",
   "metadata": {},
   "outputs": [],
   "source": [
    "import schedule\n",
    "import time\n",
    "import smtplib\n",
    "import ssl\n",
    "from email.message import EmailMessage\n",
    "\n",
    "subject=\"Email generated from Python Automation_version-X\"\n",
    "body=\"This is a test email generated as a part of python automation process. No course of action is required from the receiver's end.\"\n",
    "sender_email=\"Sender Email\"\n",
    "receiver_email=\"Receiver Email 1\",\"Receiver Email 2\",\"Receiver Email 3\"\n",
    "password=\"Sender Email Password\"\n",
    "\n",
    "message=EmailMessage()\n",
    "message[\"From\"]=sender_email\n",
    "message[\"To\"]=receiver_email\n",
    "message[\"Subject\"]=subject\n",
    "message.set_content(body)\n",
    "\n",
    "context=ssl.create_default_context()\n",
    "\n",
    "def send_emails():\n",
    "    context=ssl.create_default_context()\n",
    "    with smtplib.SMTP_SSL(\"smtp.gmail.com\",465,context=context) as server:\n",
    "        server.login(sender_email,password)\n",
    "        server.sendmail(sender_email,receiver_email,message.as_string())\n",
    "        print(\"Code block executed succeffully!!!\")\n",
    "    \n",
    "    \n",
    "schedule.every(5).minutes.do(send_emails)\n",
    "while 1:\n",
    "    schedule.run_pending()\n",
    "    time.sleep(1)  \n",
    "    \n",
    "print(\"Success\")    "
   ]
  }
 ],
 "metadata": {
  "kernelspec": {
   "display_name": "Python 3",
   "language": "python",
   "name": "python3"
  },
  "language_info": {
   "codemirror_mode": {
    "name": "ipython",
    "version": 3
   },
   "file_extension": ".py",
   "mimetype": "text/x-python",
   "name": "python",
   "nbconvert_exporter": "python",
   "pygments_lexer": "ipython3",
   "version": "3.8.8"
  }
 },
 "nbformat": 4,
 "nbformat_minor": 5
}
